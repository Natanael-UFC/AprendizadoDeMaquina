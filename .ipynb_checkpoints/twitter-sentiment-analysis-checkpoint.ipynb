{
 "cells": [
  {
   "cell_type": "code",
   "execution_count": 1,
   "metadata": {
    "collapsed": true
   },
   "outputs": [],
   "source": [
    "import re \n",
    "import tweepy \n",
    "from tweepy import OAuthHandler \n",
    "from textblob import TextBlob "
   ]
  },
  {
   "cell_type": "code",
   "execution_count": 2,
   "metadata": {
    "collapsed": true
   },
   "outputs": [],
   "source": [
    "consumer_key = 'Z2uTqJRFthpf6nYikhiMipx74'\n",
    "consumer_secret = '7hlgfXhV8P3j3WLyknV0iqVgUxhQXJ8OaCBPGQsYvB6wptBCYq'\n",
    "\n",
    "access_token = '1047641578548944896-3TaZZw8HCAqXoqlOgaw6ZNVK0TSPtA'\n",
    "access_token_secret = 'bgvtKgaQcrqgU2cyvk67JkdNhrGnL6eOioLzotxlwLXqD'"
   ]
  },
  {
   "cell_type": "code",
   "execution_count": 3,
   "metadata": {
    "collapsed": true
   },
   "outputs": [],
   "source": [
    "auth = OAuthHandler(consumer_key, consumer_secret)\n",
    "auth.set_access_token(access_token, access_token_secret)\n",
    "\n",
    "api = tweepy.API(auth)"
   ]
  },
  {
   "cell_type": "code",
   "execution_count": 4,
   "metadata": {
    "collapsed": true
   },
   "outputs": [],
   "source": [
    "def clean_tweet(tweet):\n",
    "    return ''.join(re.sub(\"(@[A-Za-z0-9]+)|([^0-9A-Za-z \\t]) | (\\w+:\\/\\/\\S+)\", \" \", tweet).split())"
   ]
  },
  {
   "cell_type": "code",
   "execution_count": 5,
   "metadata": {
    "collapsed": true
   },
   "outputs": [],
   "source": [
    "def get_tweet_sentiment(tweet):\n",
    "    analysis = TextBlob(clean_tweet(tweet))\n",
    "    if analysis.sentiment.polarity > 0:\n",
    "        return 'positive'\n",
    "    elif analysis.sentiment.polarity == 0:\n",
    "        return 'neutral'\n",
    "    else:\n",
    "        return 'negative'"
   ]
  },
  {
   "cell_type": "code",
   "execution_count": 12,
   "metadata": {
    "collapsed": true
   },
   "outputs": [],
   "source": [
    "def get_tweets(query, count=10):\n",
    "    tweets = []\n",
    "    try:\n",
    "        fetched_tweets = api.search(q=query, count=count)\n",
    "      #  fetched_tweets = api.search(q=query, count=count)\n",
    "       # print(len(fetched_tweets))\n",
    "        for tweet in fetched_tweets:\n",
    "            parsed_tweet = {}\n",
    "                \n",
    "            parsed_tweet['text'] = tweet.text\n",
    "            parsed_tweet['sentiment'] = get_tweet_sentiment(tweet.text)\n",
    "        \n",
    "            if tweet.retweet_count > 0:\n",
    "                if parsed_tweet not in tweets:\n",
    "                    tweets.append(parsed_tweet)\n",
    "            else:\n",
    "                tweets.append(parsed_tweet)\n",
    "        return tweets\n",
    "\n",
    "    except tweepy.TweepError as e: \n",
    "        print(\"Error : \" + str(e)) "
   ]
  },
  {
   "cell_type": "code",
   "execution_count": 13,
   "metadata": {},
   "outputs": [
    {
     "name": "stdout",
     "output_type": "stream",
     "text": [
      "Error : [{'code': 12, 'message': 'You must provide valid coordinates, IP address, query, or attributes.'}]\n"
     ]
    }
   ],
   "source": [
    "tweets = get_tweets(query='Ciro Gomes', count=100)"
   ]
  },
  {
   "cell_type": "code",
   "execution_count": 14,
   "metadata": {},
   "outputs": [
    {
     "ename": "TypeError",
     "evalue": "object of type 'NoneType' has no len()",
     "output_type": "error",
     "traceback": [
      "\u001b[0;31m---------------------------------------------------------------------------\u001b[0m",
      "\u001b[0;31mTypeError\u001b[0m                                 Traceback (most recent call last)",
      "\u001b[0;32m<ipython-input-14-af3b237ce66e>\u001b[0m in \u001b[0;36m<module>\u001b[0;34m()\u001b[0m\n\u001b[0;32m----> 1\u001b[0;31m \u001b[0mlen\u001b[0m\u001b[0;34m(\u001b[0m\u001b[0mtweets\u001b[0m\u001b[0;34m)\u001b[0m\u001b[0;34m\u001b[0m\u001b[0m\n\u001b[0m",
      "\u001b[0;31mTypeError\u001b[0m: object of type 'NoneType' has no len()"
     ]
    }
   ],
   "source": [
    "len(tweets)"
   ]
  },
  {
   "cell_type": "code",
   "execution_count": 67,
   "metadata": {},
   "outputs": [
    {
     "name": "stdout",
     "output_type": "stream",
     "text": [
      "Positive tweets percentage: 0.0 %\n",
      "Negative tweets percentage: 0.0 %\n",
      "Neutral tweets percentage: 100.0 %\n"
     ]
    }
   ],
   "source": [
    "tweets = get_tweets(query='Ciro Gomes', count=100)\n",
    "\n",
    "ptweets = [tweet for tweet in tweets if tweet['sentiment'] == 'positive']\n",
    "print(\"Positive tweets percentage: {} %\".format(100 * len(ptweets) / len(tweets)))\n",
    "\n",
    "ntweets = [tweet for tweet in tweets if tweet['sentiment'] == 'negative']\n",
    "print(\"Negative tweets percentage: {} %\".format(100 * len(ntweets) / len(tweets)))\n",
    "\n",
    "netweets = [tweet for tweet in tweets if tweet['sentiment'] == 'neutral']\n",
    "print(\"Neutral tweets percentage: {} %\".format(100 * (len(tweets) - len(ntweets) - len(ptweets)) / len(tweets)))"
   ]
  },
  {
   "cell_type": "code",
   "execution_count": 68,
   "metadata": {},
   "outputs": [
    {
     "name": "stdout",
     "output_type": "stream",
     "text": [
      "\n",
      "\n",
      "Positive tweets:\n",
      "\n",
      "\n",
      "Negative tweets:\n",
      "\n",
      "\n",
      "Neutral tweets:\n",
      "Meus candidatos até agora:\n",
      "\n",
      "Deputado Federal: Kayo Amado\n",
      "Deputado Estadual ?\n",
      "Senador 1: Suplicy\n",
      "Senador 2: Mara Gab… https://t.co/sQIEozc9ho\n",
      "RT @ALuizCosta: Poupe um clique: Fernando Haddad (PT), Guilherme Boulos (PSoL) e Ciro Gomes (PDT) https://t.co/xaxnhgjKFO\n",
      "RT @Beerbuhr: Nem Haddad, nem Bolsonaro, É CIRO GOMES  #VotoConsciente https://t.co/xF3z2VqrBh\n",
      "RT @luciano_hang: Todos os candidatos tem alguma coisa em falta:\n",
      "\n",
      "- Ciro Gomes falta controle emocional;\n",
      "\n",
      "- Marina Silva falta competência;…\n",
      "RT @julirsilva: Gente, achei algo que deixa os mínions do capeta com medo. Sabe o que é? Ciro Gomes no segundo turno. Eles ficam tudo abala…\n",
      "RT @Fabiana49208756: Quando vejo na TV o Ciro Gomes, Marina Silva, Haddad, Geraldo Alckmin falando que irão acabar com a corrupção, eu me q…\n",
      "RT @leandroruschel: Ciro Gomes consegue ser mais celerado que Haddad. Acusa Bolsonaro de usar \"atestado falso\" para não ir a debate.\n",
      "\n",
      "Todo…\n",
      "RT @luciano_hang: Sobre a delação de Palocci.\n",
      "\n",
      "Lembra quem eram os ministros da época?\n",
      "\n",
      "- Antonio Palocci: Fazenda\n",
      "- Ciro Gomes: Integração…\n",
      "RT @ddltalento: UTILIDADE PÚBLICA \n",
      "\n",
      "dia 7 não vão esquecer os números dos candidatos a presidência\n",
      "\n",
      "Geraldo Alckmin –12\n",
      "\n",
      "Ciro Gomes  – 12…\n",
      "RT @stylesmedcine: expressões de ciro gomes appreciation video https://t.co/waFGrj702r\n"
     ]
    }
   ],
   "source": [
    "print(\"\\n\\nPositive tweets:\") \n",
    "for tweet in ptweets[:10]:\n",
    "    print(tweet['text']) \n",
    "   \n",
    "print(\"\\n\\nNegative tweets:\") \n",
    "for tweet in ntweets[:10]:\n",
    "    print(tweet['text'])\n",
    "    \n",
    "print(\"\\n\\nNeutral tweets:\") \n",
    "for tweet in netweets[:10]:\n",
    "    print(tweet['text'])"
   ]
  },
  {
   "cell_type": "code",
   "execution_count": null,
   "metadata": {
    "collapsed": true
   },
   "outputs": [],
   "source": []
  },
  {
   "cell_type": "code",
   "execution_count": null,
   "metadata": {
    "collapsed": true
   },
   "outputs": [],
   "source": []
  },
  {
   "cell_type": "code",
   "execution_count": null,
   "metadata": {
    "collapsed": true
   },
   "outputs": [],
   "source": []
  },
  {
   "cell_type": "code",
   "execution_count": null,
   "metadata": {
    "collapsed": true
   },
   "outputs": [],
   "source": []
  },
  {
   "cell_type": "code",
   "execution_count": null,
   "metadata": {
    "collapsed": true
   },
   "outputs": [],
   "source": []
  }
 ],
 "metadata": {
  "kernelspec": {
   "display_name": "Python 3",
   "language": "python",
   "name": "python3"
  },
  "language_info": {
   "codemirror_mode": {
    "name": "ipython",
    "version": 3
   },
   "file_extension": ".py",
   "mimetype": "text/x-python",
   "name": "python",
   "nbconvert_exporter": "python",
   "pygments_lexer": "ipython3",
   "version": "3.6.3"
  }
 },
 "nbformat": 4,
 "nbformat_minor": 2
}
