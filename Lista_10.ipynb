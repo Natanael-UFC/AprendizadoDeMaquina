{
 "cells": [
  {
   "cell_type": "code",
   "execution_count": 1,
   "metadata": {},
   "outputs": [],
   "source": [
    "import pandas as pd\n",
    "from sklearn import linear_model\n",
    "from sklearn import model_selection\n",
    "from sklearn import metrics"
   ]
  },
  {
   "cell_type": "code",
   "execution_count": 2,
   "metadata": {},
   "outputs": [],
   "source": [
    "dados = pd.read_csv(\"binary.csv\")"
   ]
  },
  {
   "cell_type": "code",
   "execution_count": 3,
   "metadata": {},
   "outputs": [
    {
     "data": {
      "text/html": [
       "<div>\n",
       "<style scoped>\n",
       "    .dataframe tbody tr th:only-of-type {\n",
       "        vertical-align: middle;\n",
       "    }\n",
       "\n",
       "    .dataframe tbody tr th {\n",
       "        vertical-align: top;\n",
       "    }\n",
       "\n",
       "    .dataframe thead th {\n",
       "        text-align: right;\n",
       "    }\n",
       "</style>\n",
       "<table border=\"1\" class=\"dataframe\">\n",
       "  <thead>\n",
       "    <tr style=\"text-align: right;\">\n",
       "      <th></th>\n",
       "      <th>admit</th>\n",
       "      <th>gre</th>\n",
       "      <th>gpa</th>\n",
       "      <th>rank</th>\n",
       "    </tr>\n",
       "  </thead>\n",
       "  <tbody>\n",
       "    <tr>\n",
       "      <th>0</th>\n",
       "      <td>0</td>\n",
       "      <td>380</td>\n",
       "      <td>3.61</td>\n",
       "      <td>3</td>\n",
       "    </tr>\n",
       "    <tr>\n",
       "      <th>1</th>\n",
       "      <td>1</td>\n",
       "      <td>660</td>\n",
       "      <td>3.67</td>\n",
       "      <td>3</td>\n",
       "    </tr>\n",
       "    <tr>\n",
       "      <th>2</th>\n",
       "      <td>1</td>\n",
       "      <td>800</td>\n",
       "      <td>4.00</td>\n",
       "      <td>1</td>\n",
       "    </tr>\n",
       "    <tr>\n",
       "      <th>3</th>\n",
       "      <td>1</td>\n",
       "      <td>640</td>\n",
       "      <td>3.19</td>\n",
       "      <td>4</td>\n",
       "    </tr>\n",
       "    <tr>\n",
       "      <th>4</th>\n",
       "      <td>0</td>\n",
       "      <td>520</td>\n",
       "      <td>2.93</td>\n",
       "      <td>4</td>\n",
       "    </tr>\n",
       "  </tbody>\n",
       "</table>\n",
       "</div>"
      ],
      "text/plain": [
       "   admit  gre   gpa  rank\n",
       "0      0  380  3.61     3\n",
       "1      1  660  3.67     3\n",
       "2      1  800  4.00     1\n",
       "3      1  640  3.19     4\n",
       "4      0  520  2.93     4"
      ]
     },
     "execution_count": 3,
     "metadata": {},
     "output_type": "execute_result"
    }
   ],
   "source": [
    "dados.head()"
   ]
  },
  {
   "cell_type": "code",
   "execution_count": 4,
   "metadata": {},
   "outputs": [],
   "source": [
    "X = dados.iloc[:, 1:]\n",
    "y = dados.iloc[:, 0]"
   ]
  },
  {
   "cell_type": "markdown",
   "metadata": {},
   "source": [
    "## 1. Use o dataset do link a seguir para aplicar sobre ele o gradiente descendente estocástico."
   ]
  },
  {
   "cell_type": "code",
   "execution_count": 5,
   "metadata": {},
   "outputs": [],
   "source": [
    "X_train, X_test, y_train, y_test = model_selection.train_test_split(X, y, test_size=0.3, random_state=42, stratify=y)"
   ]
  },
  {
   "cell_type": "code",
   "execution_count": 6,
   "metadata": {},
   "outputs": [],
   "source": [
    "model_sem_penalty = linear_model.SGDClassifier(penalty='none')\n",
    "model_penalty_l1 = linear_model.SGDClassifier(penalty='l1')\n",
    "model_penalty_l2 = linear_model.SGDClassifier(penalty='l2')\n",
    "model_penalty_elastic = linear_model.SGDClassifier(penalty='elasticnet')"
   ]
  },
  {
   "cell_type": "code",
   "execution_count": 7,
   "metadata": {},
   "outputs": [
    {
     "name": "stderr",
     "output_type": "stream",
     "text": [
      "C:\\Users\\natan\\Anaconda3\\lib\\site-packages\\sklearn\\linear_model\\stochastic_gradient.py:128: FutureWarning: max_iter and tol parameters have been added in <class 'sklearn.linear_model.stochastic_gradient.SGDClassifier'> in 0.19. If both are left unset, they default to max_iter=5 and tol=None. If tol is not None, max_iter defaults to max_iter=1000. From 0.21, default max_iter will be 1000, and default tol will be 1e-3.\n",
      "  \"and default tol will be 1e-3.\" % type(self), FutureWarning)\n"
     ]
    }
   ],
   "source": [
    "model_sem_penalty.fit(X_train, y_train);\n",
    "model_penalty_l1.fit(X_train, y_train);\n",
    "model_penalty_l2.fit(X_train, y_train);\n",
    "model_penalty_elastic.fit(X_train, y_train);"
   ]
  },
  {
   "cell_type": "code",
   "execution_count": 8,
   "metadata": {},
   "outputs": [
    {
     "name": "stdout",
     "output_type": "stream",
     "text": [
      "Coef_:  [[  845.24821532  -354.02291288 -1398.79815449]]\n",
      "Intercept_:  [-190.10103219]\n"
     ]
    }
   ],
   "source": [
    "# Model_sem_penalty: coef_ e intercept_\n",
    "print(\"Coef_: \", model_sem_penalty.coef_)\n",
    "print(\"Intercept_: \", model_sem_penalty.intercept_)"
   ]
  },
  {
   "cell_type": "code",
   "execution_count": 9,
   "metadata": {},
   "outputs": [
    {
     "name": "stdout",
     "output_type": "stream",
     "text": [
      "Coef_:  [[   40.86475372  -171.12341892 -1201.50349659]]\n",
      "Intercept_:  [-131.58450787]\n"
     ]
    }
   ],
   "source": [
    "# Model_penalty_l1: coef_ e intercept_\n",
    "print(\"Coef_: \", model_penalty_l1.coef_)\n",
    "print(\"Intercept_: \", model_penalty_l1.intercept_)"
   ]
  },
  {
   "cell_type": "code",
   "execution_count": 10,
   "metadata": {},
   "outputs": [
    {
     "name": "stdout",
     "output_type": "stream",
     "text": [
      "Coef_:  [[3084.61859108 -147.81158816 -787.82826178]]\n",
      "Intercept_:  [-144.33574122]\n"
     ]
    }
   ],
   "source": [
    "# Model_penalty_l2: coef_ e intercept_\n",
    "print(\"Coef_: \", model_penalty_l2.coef_)\n",
    "print(\"Intercept_: \", model_penalty_l2.intercept_)"
   ]
  },
  {
   "cell_type": "code",
   "execution_count": 11,
   "metadata": {},
   "outputs": [
    {
     "name": "stdout",
     "output_type": "stream",
     "text": [
      "Coef_:  [[-1282.66361194  -194.67233683  -826.91904559]]\n",
      "Intercept_:  [-165.43875277]\n"
     ]
    }
   ],
   "source": [
    "# Model_penalty_elastic: coef_ e intercept_\n",
    "print(\"Coef_: \", model_penalty_elastic.coef_)\n",
    "print(\"Intercept_: \", model_penalty_elastic.intercept_)"
   ]
  },
  {
   "cell_type": "markdown",
   "metadata": {},
   "source": [
    "## 2. Para os experimentos com Regularização, crie também modelos variando a força da regularização (alpha). Use alpha com os seguintes valores: 0.0001, 0.01, 1, 10, 100."
   ]
  },
  {
   "cell_type": "code",
   "execution_count": 12,
   "metadata": {},
   "outputs": [],
   "source": [
    "model_penalty_l1_1 = linear_model.SGDClassifier(alpha=0.0001, penalty='l1')\n",
    "model_penalty_l1_2 = linear_model.SGDClassifier(alpha=0.01, penalty='l1')\n",
    "model_penalty_l1_3 = linear_model.SGDClassifier(alpha=1, penalty='l1')\n",
    "model_penalty_l1_4 = linear_model.SGDClassifier(alpha=10, penalty='l1')\n",
    "model_penalty_l1_5 = linear_model.SGDClassifier(alpha=100, penalty='l1')"
   ]
  },
  {
   "cell_type": "code",
   "execution_count": 13,
   "metadata": {},
   "outputs": [],
   "source": [
    "model_penalty_l2_1 = linear_model.SGDClassifier(alpha=0.0001, penalty='l2')\n",
    "model_penalty_l2_2 = linear_model.SGDClassifier(alpha=0.01, penalty='l2')\n",
    "model_penalty_l2_3 = linear_model.SGDClassifier(alpha=1, penalty='l2')\n",
    "model_penalty_l2_4 = linear_model.SGDClassifier(alpha=10, penalty='l2')\n",
    "model_penalty_l2_5 = linear_model.SGDClassifier(alpha=100, penalty='l2')"
   ]
  },
  {
   "cell_type": "code",
   "execution_count": 14,
   "metadata": {},
   "outputs": [],
   "source": [
    "model_penalty_elastic_1 = linear_model.SGDClassifier(alpha=0.0001, penalty='elasticnet')\n",
    "model_penalty_elastic_2 = linear_model.SGDClassifier(alpha=0.01, penalty='elasticnet')\n",
    "model_penalty_elastic_3 = linear_model.SGDClassifier(alpha=1, penalty='elasticnet')\n",
    "model_penalty_elastic_4 = linear_model.SGDClassifier(alpha=10, penalty='elasticnet')\n",
    "model_penalty_elastic_5 = linear_model.SGDClassifier(alpha=100, penalty='elasticnet')"
   ]
  },
  {
   "cell_type": "markdown",
   "metadata": {},
   "source": [
    "## 3. Compare a acurácia dos modelos criados."
   ]
  },
  {
   "cell_type": "markdown",
   "metadata": {},
   "source": [
    "### penalty='l1'"
   ]
  },
  {
   "cell_type": "code",
   "execution_count": 15,
   "metadata": {},
   "outputs": [
    {
     "name": "stdout",
     "output_type": "stream",
     "text": [
      "Model_Penalty_l1_0.0001:  0.6833333333333333\n",
      "Model_Penalty_l1_0.01:  0.6833333333333333\n",
      "Model_Penalty_l1_1:  0.6833333333333333\n",
      "Model_Penalty_l1_10:  0.6833333333333333\n",
      "Model_Penalty_l1_100:  0.31666666666666665\n"
     ]
    },
    {
     "name": "stderr",
     "output_type": "stream",
     "text": [
      "C:\\Users\\natan\\Anaconda3\\lib\\site-packages\\sklearn\\linear_model\\stochastic_gradient.py:128: FutureWarning: max_iter and tol parameters have been added in <class 'sklearn.linear_model.stochastic_gradient.SGDClassifier'> in 0.19. If both are left unset, they default to max_iter=5 and tol=None. If tol is not None, max_iter defaults to max_iter=1000. From 0.21, default max_iter will be 1000, and default tol will be 1e-3.\n",
      "  \"and default tol will be 1e-3.\" % type(self), FutureWarning)\n"
     ]
    }
   ],
   "source": [
    "# model_penalty_l1_1\n",
    "model_penalty_l1_1.fit(X_train, y_train);\n",
    "y_pred_l1_1 = model_penalty_l1_1.predict(X_test)\n",
    "print(\"Model_Penalty_l1_0.0001: \", metrics.accuracy_score(y_test, y_pred_l1_1))\n",
    "\n",
    "# model_penalty_l1_2\n",
    "model_penalty_l1_2.fit(X_train, y_train);\n",
    "y_pred_l1_2 = model_penalty_l1_2.predict(X_test)\n",
    "print(\"Model_Penalty_l1_0.01: \", metrics.accuracy_score(y_test, y_pred_l1_2))\n",
    "\n",
    "# model_penalty_l1_3\n",
    "model_penalty_l1_3.fit(X_train, y_train);\n",
    "y_pred_l1_3 = model_penalty_l1_3.predict(X_test)\n",
    "print(\"Model_Penalty_l1_1: \", metrics.accuracy_score(y_test, y_pred_l1_3))\n",
    "\n",
    "# model_penalty_l1_4\n",
    "model_penalty_l1_4.fit(X_train, y_train);\n",
    "y_pred_l1_4 = model_penalty_l1_4.predict(X_test)\n",
    "print(\"Model_Penalty_l1_10: \", metrics.accuracy_score(y_test, y_pred_l1_4))\n",
    "\n",
    "# model_penalty_l1_5\n",
    "model_penalty_l1_5.fit(X_train, y_train);\n",
    "y_pred_l1_5 = model_penalty_l1_5.predict(X_test)\n",
    "print(\"Model_Penalty_l1_100: \", metrics.accuracy_score(y_test, y_pred_l1_5))"
   ]
  },
  {
   "cell_type": "markdown",
   "metadata": {},
   "source": [
    "### penalty='l2'"
   ]
  },
  {
   "cell_type": "code",
   "execution_count": 16,
   "metadata": {},
   "outputs": [
    {
     "name": "stdout",
     "output_type": "stream",
     "text": [
      "Model_Penalty_l2_0.0001:  0.6833333333333333\n",
      "Model_Penalty_l2_0.01:  0.6833333333333333\n",
      "Model_Penalty_l2_1:  0.31666666666666665\n",
      "Model_Penalty_l2_10:  0.6833333333333333\n",
      "Model_Penalty_l2_100:  0.6833333333333333\n"
     ]
    },
    {
     "name": "stderr",
     "output_type": "stream",
     "text": [
      "C:\\Users\\natan\\Anaconda3\\lib\\site-packages\\sklearn\\linear_model\\stochastic_gradient.py:128: FutureWarning: max_iter and tol parameters have been added in <class 'sklearn.linear_model.stochastic_gradient.SGDClassifier'> in 0.19. If both are left unset, they default to max_iter=5 and tol=None. If tol is not None, max_iter defaults to max_iter=1000. From 0.21, default max_iter will be 1000, and default tol will be 1e-3.\n",
      "  \"and default tol will be 1e-3.\" % type(self), FutureWarning)\n"
     ]
    }
   ],
   "source": [
    "# model_penalty_l2_1\n",
    "model_penalty_l2_1.fit(X_train, y_train);\n",
    "y_pred_l2_1 = model_penalty_l2_1.predict(X_test)\n",
    "print(\"Model_Penalty_l2_0.0001: \", metrics.accuracy_score(y_test, y_pred_l2_1))\n",
    "\n",
    "# model_penalty_l2_2\n",
    "model_penalty_l2_2.fit(X_train, y_train);\n",
    "y_pred_l2_2 = model_penalty_l2_2.predict(X_test)\n",
    "print(\"Model_Penalty_l2_0.01: \", metrics.accuracy_score(y_test, y_pred_l2_2))\n",
    "\n",
    "# model_penalty_l2_3\n",
    "model_penalty_l2_3.fit(X_train, y_train);\n",
    "y_pred_l2_3 = model_penalty_l2_3.predict(X_test)\n",
    "print(\"Model_Penalty_l2_1: \", metrics.accuracy_score(y_test, y_pred_l2_3))\n",
    "\n",
    "# model_penalty_l2_4\n",
    "model_penalty_l2_4.fit(X_train, y_train);\n",
    "y_pred_l2_4 = model_penalty_l2_4.predict(X_test)\n",
    "print(\"Model_Penalty_l2_10: \", metrics.accuracy_score(y_test, y_pred_l2_4))\n",
    "\n",
    "# model_penalty_l2_5\n",
    "model_penalty_l2_5.fit(X_train, y_train);\n",
    "y_pred_l2_5 = model_penalty_l2_5.predict(X_test)\n",
    "print(\"Model_Penalty_l2_100: \", metrics.accuracy_score(y_test, y_pred_l2_5))"
   ]
  },
  {
   "cell_type": "markdown",
   "metadata": {},
   "source": [
    "### penalty='elastic'"
   ]
  },
  {
   "cell_type": "code",
   "execution_count": 17,
   "metadata": {},
   "outputs": [
    {
     "name": "stdout",
     "output_type": "stream",
     "text": [
      "Model_Penalty_elastic_0.0001:  0.6833333333333333\n",
      "Model_Penalty_elastic_0.01:  0.6833333333333333\n",
      "Model_Penalty_elastic_1:  0.31666666666666665\n",
      "Model_Penalty_elastic_10:  0.6833333333333333\n",
      "Model_Penalty_elastic_100:  0.6833333333333333\n"
     ]
    },
    {
     "name": "stderr",
     "output_type": "stream",
     "text": [
      "C:\\Users\\natan\\Anaconda3\\lib\\site-packages\\sklearn\\linear_model\\stochastic_gradient.py:128: FutureWarning: max_iter and tol parameters have been added in <class 'sklearn.linear_model.stochastic_gradient.SGDClassifier'> in 0.19. If both are left unset, they default to max_iter=5 and tol=None. If tol is not None, max_iter defaults to max_iter=1000. From 0.21, default max_iter will be 1000, and default tol will be 1e-3.\n",
      "  \"and default tol will be 1e-3.\" % type(self), FutureWarning)\n"
     ]
    }
   ],
   "source": [
    "# model_penalty_elastic_1\n",
    "model_penalty_elastic_1.fit(X_train, y_train);\n",
    "y_pred_elastic_1 = model_penalty_elastic_1.predict(X_test)\n",
    "print(\"Model_Penalty_elastic_0.0001: \", metrics.accuracy_score(y_test, y_pred_elastic_1))\n",
    "\n",
    "# model_penalty_elastic_2\n",
    "model_penalty_elastic_2.fit(X_train, y_train);\n",
    "y_pred_elastic_2 = model_penalty_elastic_2.predict(X_test)\n",
    "print(\"Model_Penalty_elastic_0.01: \", metrics.accuracy_score(y_test, y_pred_elastic_2))\n",
    "\n",
    "# model_penalty_elastic_3\n",
    "model_penalty_elastic_3.fit(X_train, y_train);\n",
    "y_pred_elastic_3 = model_penalty_elastic_3.predict(X_test)\n",
    "print(\"Model_Penalty_elastic_1: \", metrics.accuracy_score(y_test, y_pred_elastic_3))\n",
    "\n",
    "# model_penalty_elastic_4\n",
    "model_penalty_elastic_4.fit(X_train, y_train);\n",
    "y_pred_elastic_4 = model_penalty_elastic_4.predict(X_test)\n",
    "print(\"Model_Penalty_elastic_10: \", metrics.accuracy_score(y_test, y_pred_elastic_4))\n",
    "\n",
    "# model_penalty_elastic_5\n",
    "model_penalty_elastic_5.fit(X_train, y_train);\n",
    "y_pred_elastic_5 = model_penalty_elastic_5.predict(X_test)\n",
    "print(\"Model_Penalty_elastic_100: \", metrics.accuracy_score(y_test, y_pred_elastic_5))"
   ]
  }
 ],
 "metadata": {
  "kernelspec": {
   "display_name": "Python 3",
   "language": "python",
   "name": "python3"
  },
  "language_info": {
   "codemirror_mode": {
    "name": "ipython",
    "version": 3
   },
   "file_extension": ".py",
   "mimetype": "text/x-python",
   "name": "python",
   "nbconvert_exporter": "python",
   "pygments_lexer": "ipython3",
   "version": "3.6.4"
  }
 },
 "nbformat": 4,
 "nbformat_minor": 2
}
