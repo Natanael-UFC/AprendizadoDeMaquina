{
 "cells": [
  {
   "cell_type": "code",
   "execution_count": 1,
   "metadata": {
    "collapsed": true
   },
   "outputs": [],
   "source": [
    "%matplotlib inline\n",
    "from sklearn import linear_model\n",
    "from sklearn.svm import LinearSVR, SVR\n",
    "from sklearn.ensemble import RandomForestRegressor, GradientBoostingRegressor\n",
    "from sklearn import metrics\n",
    "from matplotlib import pyplot as plt\n",
    "import numpy as np\n",
    "from mylibs import resample\n",
    "import warnings\n",
    "warnings.filterwarnings(\"ignore\")"
   ]
  },
  {
   "cell_type": "markdown",
   "metadata": {},
   "source": [
    "## 2. Use sua implementação de split_k_fold a fim de fazer Cross Validation com k=5 (5-Fold) para obter o MSE de regressões para o seguinte dataset sobre a qualidade de vinhos tintos (winequality-red.csv) (para obter detalhes sobre o dataset clique aqui). Compare as seguintes técnicas de regressão (pode usar as implementações do Scikit Learn):"
   ]
  },
  {
   "cell_type": "code",
   "execution_count": 2,
   "metadata": {
    "collapsed": true
   },
   "outputs": [],
   "source": [
    "dados = np.genfromtxt(\"datasets/winequality-red.csv\", delimiter=\";\", skip_header=1)"
   ]
  },
  {
   "cell_type": "code",
   "execution_count": 3,
   "metadata": {},
   "outputs": [
    {
     "data": {
      "text/plain": [
       "(1599, 12)"
      ]
     },
     "execution_count": 3,
     "metadata": {},
     "output_type": "execute_result"
    }
   ],
   "source": [
    "dados.shape"
   ]
  },
  {
   "cell_type": "code",
   "execution_count": 4,
   "metadata": {
    "collapsed": true
   },
   "outputs": [],
   "source": [
    "idx_train, idx_test = resample.split_k_fold(dados.shape[0], 5, True, 0)"
   ]
  },
  {
   "cell_type": "markdown",
   "metadata": {},
   "source": [
    "### SGD - Stochastic Gradient Descent Regressor"
   ]
  },
  {
   "cell_type": "code",
   "execution_count": 5,
   "metadata": {
    "collapsed": true
   },
   "outputs": [],
   "source": [
    "modelSGD_1 = linear_model.SGDRegressor()\n",
    "modelSGD_2 = linear_model.SGDRegressor()\n",
    "modelSGD_3 = linear_model.SGDRegressor()\n",
    "modelSGD_4 = linear_model.SGDRegressor()\n",
    "modelSGD_5 = linear_model.SGDRegressor()"
   ]
  },
  {
   "cell_type": "code",
   "execution_count": 6,
   "metadata": {
    "collapsed": true
   },
   "outputs": [],
   "source": [
    "X = dados[:, 0]\n",
    "y = dados[:, 1]\n",
    "\n",
    "X_2d = [[i] for i in X]\n",
    "y_2d = [[i] for i in y]"
   ]
  },
  {
   "cell_type": "code",
   "execution_count": 7,
   "metadata": {
    "collapsed": true
   },
   "outputs": [],
   "source": [
    "X_train = []\n",
    "y_train = []\n",
    "X_test = []\n",
    "y_test = []\n",
    "\n",
    "X_train_1 = []\n",
    "y_train_1 = []\n",
    "X_test_1 = []\n",
    "y_test_1 = []\n",
    "\n",
    "for i in range(len(idx_train)):\n",
    "    X_train.append(X[idx_train[i]])\n",
    "    y_train.append(y[idx_train[i]])\n",
    "    \n",
    "for i in range(len(idx_test)):\n",
    "    X_test.append(X[idx_test[i]])\n",
    "    y_test.append(y[idx_test[i]])\n",
    "\n",
    "for i in range(len(idx_train)):\n",
    "    X_train_1.append([[i] for i in X_train[i]])\n",
    "    y_train_1.append([[i] for i in y_train[i]])\n",
    "\n",
    "for i in range(len(idx_test)):\n",
    "    X_test_1.append([[i] for i in X_test[i]])\n",
    "    y_test_1.append([[i] for i in y_test[i]])\n",
    "\n"
   ]
  },
  {
   "cell_type": "code",
   "execution_count": 8,
   "metadata": {},
   "outputs": [
    {
     "name": "stdout",
     "output_type": "stream",
     "text": [
      "MSE: 0.0443153206024\n"
     ]
    }
   ],
   "source": [
    "# Modelo 1\n",
    "modelSGD_1.fit(X_train_1[0], y_train_1[0]);\n",
    "y_pred_sgd_1 = modelSGD_1.predict(X_test_1[0]);\n",
    "mse_sgd_1 = metrics.mean_squared_error(y_test_1[0], y_pred_sgd_1)\n",
    "\n",
    "# Modelo 2\n",
    "modelSGD_2.fit(X_train_1[1], y_train_1[1]);\n",
    "y_pred_sgd_2 = modelSGD_2.predict(X_test_1[1]);\n",
    "mse_sgd_2 = metrics.mean_squared_error(y_test_1[1], y_pred_sgd_2)\n",
    "\n",
    "# Modelo 3\n",
    "modelSGD_3.fit(X_train_1[2], y_train_1[2]);\n",
    "y_pred_sgd_3 = modelSGD_3.predict(X_test_1[2]);\n",
    "mse_sgd_3 = metrics.mean_squared_error(y_test_1[2], y_pred_sgd_3)\n",
    "\n",
    "# Modelo 4\n",
    "modelSGD_4.fit(X_train_1[3], y_train_1[3]);\n",
    "y_pred_sgd_4 = modelSGD_4.predict(X_test_1[3]);\n",
    "mse_sgd_4 = metrics.mean_squared_error(y_test_1[3], y_pred_sgd_4)\n",
    "\n",
    "# Modelo 5\n",
    "modelSGD_5.fit(X_train_1[4], y_train_1[4]);\n",
    "y_pred_sgd_5 = modelSGD_5.predict(X_test_1[4]);\n",
    "mse_sgd_5 = metrics.mean_squared_error(y_test_1[4], y_pred_sgd_5)\n",
    "\n",
    "# Calculo da performance_sgd\n",
    "performance_sgd_mse = (mse_sgd_1 + mse_sgd_2 + mse_sgd_3 + mse_sgd_4 + mse_sgd_5) / 5\n",
    "print(\"MSE:\", performance_sgd_mse)"
   ]
  },
  {
   "cell_type": "markdown",
   "metadata": {},
   "source": [
    "## Linear Regression "
   ]
  },
  {
   "cell_type": "code",
   "execution_count": 9,
   "metadata": {
    "collapsed": true
   },
   "outputs": [],
   "source": [
    "modelLR_1 = linear_model.LinearRegression()\n",
    "modelLR_2 = linear_model.LinearRegression()\n",
    "modelLR_3 = linear_model.LinearRegression()\n",
    "modelLR_4 = linear_model.LinearRegression()\n",
    "modelLR_5 = linear_model.LinearRegression()"
   ]
  },
  {
   "cell_type": "code",
   "execution_count": 10,
   "metadata": {},
   "outputs": [
    {
     "name": "stdout",
     "output_type": "stream",
     "text": [
      "MSE: 0.029930497035\n"
     ]
    }
   ],
   "source": [
    "# modelo 1\n",
    "modelLR_1.fit(X_train_1[0], y_train_1[0]);\n",
    "y_pred_lr_1 = modelLR_1.predict(X_test_1[0]);\n",
    "mse_lr_1 = metrics.mean_squared_error(y_test_1[0], y_pred_lr_1)\n",
    "\n",
    "# Modelo 2\n",
    "modelLR_2.fit(X_train_1[1], y_train_1[1]);\n",
    "y_pred_lr_2 = modelLR_2.predict(X_test_1[1]);\n",
    "mse_lr_2 = metrics.mean_squared_error(y_test_1[1], y_pred_lr_2)\n",
    "\n",
    "# Modelo 3\n",
    "modelLR_3.fit(X_train_1[2], y_train_1[2]);\n",
    "y_pred_lr_3 = modelLR_3.predict(X_test_1[2]);\n",
    "mse_lr_3 = metrics.mean_squared_error(y_test_1[2], y_pred_lr_3)\n",
    "\n",
    "# Modelo 4\n",
    "modelLR_4.fit(X_train_1[3], y_train_1[3]);\n",
    "y_pred_lr_4 = modelLR_4.predict(X_test_1[3]);\n",
    "mse_lr_4 = metrics.mean_squared_error(y_test_1[3], y_pred_lr_4)\n",
    "\n",
    "# Modelo 5\n",
    "modelLR_5.fit(X_train_1[4], y_train_1[4]);\n",
    "y_pred_lr_5 = modelLR_5.predict(X_test_1[4]);\n",
    "mse_lr_5 = metrics.mean_squared_error(y_test_1[4], y_pred_lr_5)\n",
    "\n",
    "# Calculo da performance_lr\n",
    "performance_lr_mse = (mse_lr_1 + mse_lr_2 + mse_lr_3 + mse_lr_4 + mse_lr_5) / 5\n",
    "print(\"MSE:\", performance_lr_mse)"
   ]
  },
  {
   "cell_type": "markdown",
   "metadata": {
    "collapsed": true
   },
   "source": [
    "## Linear SVR"
   ]
  },
  {
   "cell_type": "code",
   "execution_count": 11,
   "metadata": {
    "collapsed": true
   },
   "outputs": [],
   "source": [
    "modelLSVR_1 = LinearSVR()\n",
    "modelLSVR_2 = LinearSVR()\n",
    "modelLSVR_3 = LinearSVR()\n",
    "modelLSVR_4 = LinearSVR()\n",
    "modelLSVR_5 = LinearSVR()"
   ]
  },
  {
   "cell_type": "code",
   "execution_count": 12,
   "metadata": {},
   "outputs": [
    {
     "name": "stdout",
     "output_type": "stream",
     "text": [
      "MSE: 0.031702333287\n"
     ]
    }
   ],
   "source": [
    "# modelo 1\n",
    "modelLSVR_1.fit(X_train_1[0], y_train_1[0]);\n",
    "y_pred_lsvr_1 = modelLSVR_1.predict(X_test_1[0]);\n",
    "mse_lsvr_1 = metrics.mean_squared_error(y_test_1[0], y_pred_lsvr_1)\n",
    "\n",
    "# modelo 2\n",
    "modelLSVR_2.fit(X_train_1[1], y_train_1[1]);\n",
    "y_pred_lsvr_2 = modelLSVR_2.predict(X_test_1[1]);\n",
    "mse_lsvr_2 = metrics.mean_squared_error(y_test_1[1], y_pred_lsvr_2)\n",
    "\n",
    "# modelo 3\n",
    "modelLSVR_3.fit(X_train_1[2], y_train_1[2]);\n",
    "y_pred_lsvr_3 = modelLSVR_3.predict(X_test_1[2]);\n",
    "mse_lsvr_3 = metrics.mean_squared_error(y_test_1[2], y_pred_lsvr_3)\n",
    "\n",
    "# modelo 4\n",
    "modelLSVR_4.fit(X_train_1[3], y_train_1[3]);\n",
    "y_pred_lsvr_4 = modelLSVR_4.predict(X_test_1[3]);\n",
    "mse_lsvr_4 = metrics.mean_squared_error(y_test_1[3], y_pred_lsvr_4)\n",
    "\n",
    "# modelo 5\n",
    "modelLSVR_5.fit(X_train_1[4], y_train_1[4]);\n",
    "y_pred_lsvr_5 = modelLSVR_5.predict(X_test_1[4]);\n",
    "mse_lsvr_5 = metrics.mean_squared_error(y_test_1[4], y_pred_lsvr_5)\n",
    "\n",
    "# Calculo da performance_SVR\n",
    "performance_lsvr_mse = (mse_lsvr_1 + mse_lsvr_2 + mse_lsvr_3 + mse_lsvr_4 + mse_lsvr_5) / 5\n",
    "print(\"MSE:\", performance_lsvr_mse)"
   ]
  },
  {
   "cell_type": "markdown",
   "metadata": {},
   "source": [
    "## SVR - Epsilon-Support Vector Regression"
   ]
  },
  {
   "cell_type": "code",
   "execution_count": 13,
   "metadata": {
    "collapsed": true
   },
   "outputs": [],
   "source": [
    "modelSVR_1 = SVR()\n",
    "modelSVR_2 = SVR()\n",
    "modelSVR_3 = SVR()\n",
    "modelSVR_4 = SVR()\n",
    "modelSVR_5 = SVR()"
   ]
  },
  {
   "cell_type": "code",
   "execution_count": 14,
   "metadata": {},
   "outputs": [
    {
     "name": "stdout",
     "output_type": "stream",
     "text": [
      "MSE: 0.0297424114885\n"
     ]
    }
   ],
   "source": [
    "# modelo 1\n",
    "modelSVR_1.fit(X_train_1[0], y_train_1[0]);\n",
    "y_pred_svr_1 = modelSVR_1.predict(X_test_1[0]);\n",
    "mse_svr_1 = metrics.mean_squared_error(y_test_1[0], y_pred_svr_1)\n",
    "\n",
    "# modelo 2\n",
    "modelSVR_2.fit(X_train_1[1], y_train_1[1]);\n",
    "y_pred_svr_2 = modelSVR_2.predict(X_test_1[1]);\n",
    "mse_svr_2 = metrics.mean_squared_error(y_test_1[1], y_pred_svr_2)\n",
    "\n",
    "# modelo 3\n",
    "modelSVR_3.fit(X_train_1[2], y_train_1[2]);\n",
    "y_pred_svr_3 = modelSVR_3.predict(X_test_1[2]);\n",
    "mse_svr_3 = metrics.mean_squared_error(y_test_1[2], y_pred_svr_3)\n",
    "\n",
    "# modelo 4\n",
    "modelSVR_4.fit(X_train_1[3], y_train_1[3]);\n",
    "y_pred_svr_4 = modelSVR_4.predict(X_test_1[3]);\n",
    "mse_svr_4 = metrics.mean_squared_error(y_test_1[3], y_pred_svr_4)\n",
    "\n",
    "# modelo 5\n",
    "modelSVR_5.fit(X_train_1[4], y_train_1[4]);\n",
    "y_pred_svr_5 = modelSVR_5.predict(X_test_1[4]);\n",
    "mse_svr_5 = metrics.mean_squared_error(y_test_1[4], y_pred_svr_5)\n",
    "\n",
    "# Calculo da performance_SVR\n",
    "performance_svr_mse = (mse_svr_1 + mse_svr_2 + mse_svr_3 + mse_svr_4 + mse_svr_5) / 5\n",
    "print(\"MSE:\", performance_svr_mse)"
   ]
  },
  {
   "cell_type": "markdown",
   "metadata": {},
   "source": [
    "## Random Forest Regressor"
   ]
  },
  {
   "cell_type": "code",
   "execution_count": 15,
   "metadata": {
    "collapsed": true
   },
   "outputs": [],
   "source": [
    "modelRFR_1 = RandomForestRegressor()\n",
    "modelRFR_2 = RandomForestRegressor()\n",
    "modelRFR_3 = RandomForestRegressor()\n",
    "modelRFR_4 = RandomForestRegressor()\n",
    "modelRFR_5 = RandomForestRegressor()"
   ]
  },
  {
   "cell_type": "code",
   "execution_count": 16,
   "metadata": {},
   "outputs": [
    {
     "name": "stdout",
     "output_type": "stream",
     "text": [
      "MSE: 0.0298032440256\n"
     ]
    }
   ],
   "source": [
    "# modelo 1\n",
    "modelRFR_1.fit(X_train_1[0], y_train_1[0]);\n",
    "y_pred_rfr_1 = modelRFR_1.predict(X_test_1[0]);\n",
    "mse_rfr_1 = metrics.mean_squared_error(y_test_1[0], y_pred_rfr_1)\n",
    "\n",
    "# modelo 2\n",
    "modelRFR_2.fit(X_train_1[1], y_train_1[1]);\n",
    "y_pred_rfr_2 = modelRFR_2.predict(X_test_1[1]);\n",
    "mse_rfr_2 = metrics.mean_squared_error(y_test_1[1], y_pred_rfr_2)\n",
    "\n",
    "# modelo 3\n",
    "modelRFR_3.fit(X_train_1[2], y_train_1[2]);\n",
    "y_pred_rfr_3 = modelRFR_3.predict(X_test_1[2]);\n",
    "mse_rfr_3 = metrics.mean_squared_error(y_test_1[0], y_pred_rfr_3)\n",
    "\n",
    "# modelo 4\n",
    "modelRFR_4.fit(X_train_1[3], y_train_1[3]);\n",
    "y_pred_rfr_4 = modelRFR_4.predict(X_test_1[3]);\n",
    "mse_rfr_4 = metrics.mean_squared_error(y_test_1[3], y_pred_rfr_4)\n",
    "\n",
    "# modelo 5\n",
    "modelRFR_5.fit(X_train_1[4], y_train_1[4]);\n",
    "y_pred_rfr_5 = modelRFR_5.predict(X_test_1[4]);\n",
    "mse_rfr_5 = metrics.mean_squared_error(y_test_1[4], y_pred_rfr_5)\n",
    "\n",
    "# Calculo da performance_RFR\n",
    "performance_rfr_mse = (mse_rfr_1 + mse_rfr_2 + mse_rfr_3 + mse_rfr_4 + mse_rfr_5) / 5\n",
    "print(\"MSE:\", performance_rfr_mse)"
   ]
  },
  {
   "cell_type": "markdown",
   "metadata": {},
   "source": [
    "## Gradient Boosting Regressor"
   ]
  },
  {
   "cell_type": "code",
   "execution_count": 17,
   "metadata": {
    "collapsed": true
   },
   "outputs": [],
   "source": [
    "modelGBR_1 = GradientBoostingRegressor()\n",
    "modelGBR_2 = GradientBoostingRegressor()\n",
    "modelGBR_3 = GradientBoostingRegressor()\n",
    "modelGBR_4 = GradientBoostingRegressor()\n",
    "modelGBR_5 = GradientBoostingRegressor()"
   ]
  },
  {
   "cell_type": "code",
   "execution_count": 18,
   "metadata": {},
   "outputs": [
    {
     "name": "stdout",
     "output_type": "stream",
     "text": [
      "MSE: 0.0294021709658\n"
     ]
    }
   ],
   "source": [
    "# modelo 1\n",
    "modelGBR_1.fit(X_train_1[0], y_train_1[0]);\n",
    "y_pred_gbr_1 = modelGBR_1.predict(X_test_1[0]);\n",
    "mse_gbr_1 = metrics.mean_squared_error(y_test_1[0], y_pred_gbr_1)\n",
    "\n",
    "# modelo 2\n",
    "modelGBR_2.fit(X_train_1[1], y_train_1[1]);\n",
    "y_pred_gbr_2 = modelGBR_2.predict(X_test_1[1]);\n",
    "mse_gbr_2 = metrics.mean_squared_error(y_test_1[1], y_pred_gbr_2)\n",
    "\n",
    "# modelo 3\n",
    "modelGBR_3.fit(X_train_1[2], y_train_1[2]);\n",
    "y_pred_gbr_3 = modelGBR_3.predict(X_test_1[2]);\n",
    "mse_gbr_3 = metrics.mean_squared_error(y_test_1[2], y_pred_gbr_3)\n",
    "\n",
    "# modelo 4\n",
    "modelGBR_4.fit(X_train_1[3], y_train_1[3]);\n",
    "y_pred_gbr_4 = modelGBR_4.predict(X_test_1[3]);\n",
    "mse_gbr_4 = metrics.mean_squared_error(y_test_1[3], y_pred_gbr_4)\n",
    "\n",
    "# modelo 5\n",
    "modelGBR_5.fit(X_train_1[4], y_train_1[4]);\n",
    "y_pred_gbr_5 = modelGBR_5.predict(X_test_1[4]);\n",
    "mse_gbr_5 = metrics.mean_squared_error(y_test_1[4], y_pred_gbr_5)\n",
    "\n",
    "# Calculo da performance_GBR\n",
    "performance_gbr_mse = (mse_gbr_1 + mse_gbr_2 + mse_gbr_3 + mse_gbr_4 + mse_gbr_5) / 5\n",
    "print(\"MSE:\", performance_gbr_mse)"
   ]
  },
  {
   "cell_type": "markdown",
   "metadata": {},
   "source": [
    "# 3. Faça um gráfico comparativo entre resultados das avaliações (Evaluation) dos modelos acima."
   ]
  },
  {
   "cell_type": "code",
   "execution_count": 19,
   "metadata": {},
   "outputs": [
    {
     "name": "stdout",
     "output_type": "stream",
     "text": [
      "SGD: 0.0443153206024\n",
      "LR: 0.029930497035\n",
      "LSVR: 0.031702333287\n",
      "SVR: 0.0297424114885\n",
      "RFR: 0.0298032440256\n",
      "GBR: 0.0294021709658\n"
     ]
    }
   ],
   "source": [
    "class_names = ['SGD','LR','LSVR','SVR','RFR','GBR']\n",
    "class_ = [performance_sgd_mse, performance_lr_mse, performance_lsvr_mse, performance_svr_mse, performance_rfr_mse, performance_gbr_mse]\n",
    "for i in range(0,len(class_names)):\n",
    "    print(class_names[i] + ': ' + str(class_[i]))"
   ]
  },
  {
   "cell_type": "code",
   "execution_count": 20,
   "metadata": {},
   "outputs": [
    {
     "data": {
      "image/png": "[encoded data removed]",
      "text/plain": [
       "<matplotlib.figure.Figure at 0x7fc8316d06a0>"
      ]
     },
     "metadata": {},
     "output_type": "display_data"
    }
   ],
   "source": [
    "plt.grid();\n",
    "plt.bar(range(len(class_names)),class_);\n",
    "plt.xticks(range(len(class_names)), class_names);"
   ]
  },
  {
   "cell_type": "markdown",
   "metadata": {},
   "source": [
    "# 4. Escolha o melhor algoritmo obtido a partir de cross validation e treine um modelo usando o dataset completo, ou seja, gere um modelo final."
   ]
  },
  {
   "cell_type": "code",
   "execution_count": 21,
   "metadata": {
    "collapsed": true
   },
   "outputs": [],
   "source": [
    "model_final = GradientBoostingRegressor()"
   ]
  },
  {
   "cell_type": "code",
   "execution_count": 22,
   "metadata": {
    "collapsed": true
   },
   "outputs": [],
   "source": [
    "model_final.fit(X_2d, y_2d);"
   ]
  },
  {
   "cell_type": "markdown",
   "metadata": {},
   "source": [
    "# 5. Qual a diferença entre Stochastic Gradient Descent e Gradient Descent?"
   ]
  },
  {
   "cell_type": "markdown",
   "metadata": {
    "collapsed": true
   },
   "source": [
    "### => Em termos relativamente simples, ambos são métodos para atualizar um conjunto de parâmetros de maneira iterativa para minimizar uma função de erro. Com gradiente descendente, você usa todos os seus dados para calcular o gradiente; com o Gradiente Descendente Estocástico você usa um subconjunto dos dados. O Gradiente Descendente Estocástico é muito mais rápido, embora a função de erro não seja tão boa."
   ]
  },
  {
   "cell_type": "code",
   "execution_count": null,
   "metadata": {
    "collapsed": true
   },
   "outputs": [],
   "source": []
  }
 ],
 "metadata": {
  "kernelspec": {
   "display_name": "Python 3",
   "language": "python",
   "name": "python3"
  },
  "language_info": {
   "codemirror_mode": {
    "name": "ipython",
    "version": 3
   },
   "file_extension": ".py",
   "mimetype": "text/x-python",
   "name": "python",
   "nbconvert_exporter": "python",
   "pygments_lexer": "ipython3",
   "version": "3.6.3"
  }
 },
 "nbformat": 4,
 "nbformat_minor": 2
}
