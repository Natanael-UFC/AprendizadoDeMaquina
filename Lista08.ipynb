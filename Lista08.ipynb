{
 "cells": [
  {
   "cell_type": "code",
   "execution_count": 1,
   "metadata": {},
   "outputs": [],
   "source": [
    "%matplotlib inline\n",
    "import numpy as np\n",
    "import pandas as pd\n",
    "import matplotlib.pyplot as plt\n",
    "from matplotlib.colors import ListedColormap\n",
    "from sklearn import preprocessing\n",
    "from sklearn import metrics\n",
    "from sklearn.model_selection import train_test_split\n",
    "from bibs import Perceptron\n",
    "from bibs import AdalineBatch\n",
    "from bibs import AdalineEstocástico\n",
    "from sklearn.model_selection import StratifiedKFold\n",
    "from sklearn.neighbors import KNeighborsClassifier\n",
    "from sklearn.naive_bayes import GaussianNB\n",
    "from sklearn.svm import SVC"
   ]
  },
  {
   "cell_type": "markdown",
   "metadata": {},
   "source": [
    "## Desenhe o gráfico de região de decisão (plot_decision_regions) de cada um dos 3 algoritmos acima para os dados do dataset pima-indians-diabetes.csv."
   ]
  },
  {
   "cell_type": "code",
   "execution_count": 2,
   "metadata": {},
   "outputs": [],
   "source": [
    "dados = pd.read_csv('pima-indians-diabetes.csv', header=None)"
   ]
  },
  {
   "cell_type": "code",
   "execution_count": 3,
   "metadata": {},
   "outputs": [
    {
     "data": {
      "text/html": [
       "<div>\n",
       "<style scoped>\n",
       "    .dataframe tbody tr th:only-of-type {\n",
       "        vertical-align: middle;\n",
       "    }\n",
       "\n",
       "    .dataframe tbody tr th {\n",
       "        vertical-align: top;\n",
       "    }\n",
       "\n",
       "    .dataframe thead th {\n",
       "        text-align: right;\n",
       "    }\n",
       "</style>\n",
       "<table border=\"1\" class=\"dataframe\">\n",
       "  <thead>\n",
       "    <tr style=\"text-align: right;\">\n",
       "      <th></th>\n",
       "      <th>0</th>\n",
       "      <th>1</th>\n",
       "      <th>2</th>\n",
       "      <th>3</th>\n",
       "      <th>4</th>\n",
       "      <th>5</th>\n",
       "      <th>6</th>\n",
       "      <th>7</th>\n",
       "      <th>8</th>\n",
       "    </tr>\n",
       "  </thead>\n",
       "  <tbody>\n",
       "    <tr>\n",
       "      <th>0</th>\n",
       "      <td>6</td>\n",
       "      <td>148</td>\n",
       "      <td>72</td>\n",
       "      <td>35</td>\n",
       "      <td>0</td>\n",
       "      <td>33.6</td>\n",
       "      <td>0.627</td>\n",
       "      <td>50</td>\n",
       "      <td>1</td>\n",
       "    </tr>\n",
       "    <tr>\n",
       "      <th>1</th>\n",
       "      <td>1</td>\n",
       "      <td>85</td>\n",
       "      <td>66</td>\n",
       "      <td>29</td>\n",
       "      <td>0</td>\n",
       "      <td>26.6</td>\n",
       "      <td>0.351</td>\n",
       "      <td>31</td>\n",
       "      <td>0</td>\n",
       "    </tr>\n",
       "    <tr>\n",
       "      <th>2</th>\n",
       "      <td>8</td>\n",
       "      <td>183</td>\n",
       "      <td>64</td>\n",
       "      <td>0</td>\n",
       "      <td>0</td>\n",
       "      <td>23.3</td>\n",
       "      <td>0.672</td>\n",
       "      <td>32</td>\n",
       "      <td>1</td>\n",
       "    </tr>\n",
       "    <tr>\n",
       "      <th>3</th>\n",
       "      <td>1</td>\n",
       "      <td>89</td>\n",
       "      <td>66</td>\n",
       "      <td>23</td>\n",
       "      <td>94</td>\n",
       "      <td>28.1</td>\n",
       "      <td>0.167</td>\n",
       "      <td>21</td>\n",
       "      <td>0</td>\n",
       "    </tr>\n",
       "    <tr>\n",
       "      <th>4</th>\n",
       "      <td>0</td>\n",
       "      <td>137</td>\n",
       "      <td>40</td>\n",
       "      <td>35</td>\n",
       "      <td>168</td>\n",
       "      <td>43.1</td>\n",
       "      <td>2.288</td>\n",
       "      <td>33</td>\n",
       "      <td>1</td>\n",
       "    </tr>\n",
       "  </tbody>\n",
       "</table>\n",
       "</div>"
      ],
      "text/plain": [
       "   0    1   2   3    4     5      6   7  8\n",
       "0  6  148  72  35    0  33.6  0.627  50  1\n",
       "1  1   85  66  29    0  26.6  0.351  31  0\n",
       "2  8  183  64   0    0  23.3  0.672  32  1\n",
       "3  1   89  66  23   94  28.1  0.167  21  0\n",
       "4  0  137  40  35  168  43.1  2.288  33  1"
      ]
     },
     "execution_count": 3,
     "metadata": {},
     "output_type": "execute_result"
    }
   ],
   "source": [
    "dados.head()"
   ]
  },
  {
   "cell_type": "code",
   "execution_count": 4,
   "metadata": {},
   "outputs": [],
   "source": [
    "y = dados.iloc[0:, 8].values\n",
    "X = dados.iloc[0:, [1, 2]].values"
   ]
  },
  {
   "cell_type": "code",
   "execution_count": 5,
   "metadata": {},
   "outputs": [],
   "source": [
    "X_train, X_test, y_train, y_test = train_test_split(X, y, test_size=0.30, random_state=12345)"
   ]
  },
  {
   "cell_type": "code",
   "execution_count": 6,
   "metadata": {},
   "outputs": [
    {
     "name": "stderr",
     "output_type": "stream",
     "text": [
      "C:\\Users\\natan\\Anaconda3\\lib\\site-packages\\sklearn\\utils\\validation.py:475: DataConversionWarning: Data with input dtype int64 was converted to float64 by StandardScaler.\n",
      "  warnings.warn(msg, DataConversionWarning)\n"
     ]
    }
   ],
   "source": [
    "std_scale = preprocessing.StandardScaler().fit(X_train)\n",
    "X_train_std = std_scale.transform(X_train)\n",
    "X_test_std = std_scale.transform(X_test)"
   ]
  },
  {
   "cell_type": "markdown",
   "metadata": {},
   "source": [
    "### Perceptron"
   ]
  },
  {
   "cell_type": "code",
   "execution_count": 7,
   "metadata": {},
   "outputs": [],
   "source": [
    "ppn = Perceptron.Perceptron(eta=0.1, n_iter=10)\n",
    "ppn.fit(X_train_std, y_train);"
   ]
  },
  {
   "cell_type": "code",
   "execution_count": 8,
   "metadata": {},
   "outputs": [
    {
     "data": {
      "image/png": "[encoded data removed]",
      "text/plain": [
       "<matplotlib.figure.Figure at 0x29386100438>"
      ]
     },
     "metadata": {},
     "output_type": "display_data"
    }
   ],
   "source": [
    "Perceptron.plot_decision_regions(X_test_std, y_test, classifier=ppn)\n",
    "plt.xlabel('sepal length [cm]')\n",
    "plt.ylabel('petal length [cm]')\n",
    "plt.legend(loc='upper left')\n",
    "plt.show()"
   ]
  },
  {
   "cell_type": "markdown",
   "metadata": {},
   "source": [
    "## Adaline com Gradiente Descendente Batch"
   ]
  },
  {
   "cell_type": "code",
   "execution_count": 9,
   "metadata": {},
   "outputs": [],
   "source": [
    "adaline_b = AdalineBatch.AdalineGD(n_iter=15, eta=0.01)\n",
    "adaline_b.fit(X_train_std, y_train);"
   ]
  },
  {
   "cell_type": "code",
   "execution_count": 10,
   "metadata": {},
   "outputs": [
    {
     "data": {
      "image/png": "[encoded data removed]",
      "text/plain": [
       "<matplotlib.figure.Figure at 0x29386100b38>"
      ]
     },
     "metadata": {},
     "output_type": "display_data"
    }
   ],
   "source": [
    "AdalineBatch.plot_decision_regions(X_test_std, y_test, classifier=adaline_b)\n",
    "plt.title('Adaline - Gradient Descent')\n",
    "plt.xlabel('sepal length [standardized]')\n",
    "plt.ylabel('petal length [standardized]')\n",
    "plt.legend(loc='upper left')\n",
    "plt.tight_layout()\n",
    "plt.show()"
   ]
  },
  {
   "cell_type": "markdown",
   "metadata": {},
   "source": [
    "## Adaline com Gradiente Descendente Estocástico "
   ]
  },
  {
   "cell_type": "code",
   "execution_count": 11,
   "metadata": {},
   "outputs": [],
   "source": [
    "adaline_g = AdalineEstocástico.AdalineSGD(n_iter=15, eta=0.01, random_state=1)\n",
    "adaline_g.fit(X_train_std, y_train);"
   ]
  },
  {
   "cell_type": "code",
   "execution_count": 12,
   "metadata": {},
   "outputs": [
    {
     "data": {
      "image/png": "[encoded data removed]",
      "text/plain": [
       "<matplotlib.figure.Figure at 0x293818f8128>"
      ]
     },
     "metadata": {},
     "output_type": "display_data"
    }
   ],
   "source": [
    "AdalineEstocástico.plot_decision_regions(X_test_std, y_test, classifier=adaline_g)\n",
    "plt.title('Adaline - Stochastic Gradient Descent')\n",
    "plt.xlabel('sepal length [standardized]')\n",
    "plt.ylabel('petal length [standardized]')\n",
    "plt.legend(loc='upper left')\n",
    "\n",
    "plt.tight_layout()\n",
    "plt.show()"
   ]
  },
  {
   "cell_type": "markdown",
   "metadata": {},
   "source": [
    "# Use K-Fold Cross Validation Estratificada com k = 3 para obter a acurácia dos 3 algoritmos acima sobre o dataset pima-indians-diabetes.csv. Faça Standardization dos dados (fit para o conjunto de treino e transform para treino e teste)."
   ]
  },
  {
   "cell_type": "code",
   "execution_count": 13,
   "metadata": {},
   "outputs": [],
   "source": [
    "aux = StratifiedKFold(n_splits=3, shuffle=True)\n",
    "aux.get_n_splits();"
   ]
  },
  {
   "cell_type": "code",
   "execution_count": 14,
   "metadata": {},
   "outputs": [
    {
     "name": "stderr",
     "output_type": "stream",
     "text": [
      "C:\\Users\\natan\\Anaconda3\\lib\\site-packages\\sklearn\\utils\\validation.py:475: DataConversionWarning: Data with input dtype int64 was converted to float64 by StandardScaler.\n",
      "  warnings.warn(msg, DataConversionWarning)\n"
     ]
    },
    {
     "name": "stdout",
     "output_type": "stream",
     "text": [
      "Accuracy Perceptron:  0.328133404383154\n",
      "Accuracy Adaline Batch:  0.3385501902609292\n",
      "Accuracy Adaline Estocastico:  0.3385501902609292 \n",
      "\n",
      "Accuracy KNN:  0.6966522143066046\n",
      "Accuracy Naive Bayes:  0.7512638761730374\n",
      "Accuracy SVM:  0.746111393244068\n"
     ]
    }
   ],
   "source": [
    "vet_acc_perc = []\n",
    "vet_acc_ad_g = []\n",
    "vet_acc_est = []\n",
    "vet_acc_knn = []\n",
    "vet_acc_naive = []\n",
    "vet_acc_svm = []\n",
    "\n",
    "for index_train, index_test in aux.split(X, y):\n",
    "    X_train, X_test = X[index_train], X[index_test]\n",
    "    y_train, y_test = y[index_train], y[index_test]\n",
    "    \n",
    "    std = preprocessing.StandardScaler().fit(X_train)\n",
    "    X_train_std = std.transform(X_train)\n",
    "    X_test_std = std.transform(X_test)\n",
    "    \n",
    "    #Perceptron\n",
    "    model_perc = Perceptron.Perceptron(eta=0.0000001, n_iter=20)\n",
    "    model_perc.fit(X_train_std, y_train)\n",
    "    y_pred_perc = model_perc.predict(X_test_std)\n",
    "    vet_acc_perc.append(metrics.accuracy_score(y_test, y_pred_perc))\n",
    "    \n",
    "    #Adaline com Gradiente Descendente Batch\n",
    "    model_adaline_g = AdalineBatch.AdalineGD(n_iter=20, eta=0.0000001)\n",
    "    model_adaline_g.fit(X_train_std, y_train)\n",
    "    y_pred_ad_g = model_adaline_g.predict(X_test_std)\n",
    "    vet_acc_ad_g.append(metrics.accuracy_score(y_test, y_pred_ad_g))\n",
    "    \n",
    "    #Adaline com Gradiente Descendente Estocástico\n",
    "    model_est = AdalineEstocástico.AdalineSGD(n_iter=20, eta=0.0000001, random_state=1)\n",
    "    model_est.fit(X_train_std, y_train)\n",
    "    y_pred_est = model_est.predict(X_test_std)\n",
    "    vet_acc_est.append(metrics.accuracy_score(y_test, y_pred_est))\n",
    "    \n",
    "    #KNN\n",
    "    model_knn = KNeighborsClassifier(n_neighbors=3).fit(X_train_std, y_train)\n",
    "    y_pred_knn = model_knn.predict(X_test_std)\n",
    "    vet_acc_knn.append(metrics.accuracy_score(y_test, y_pred_knn))\n",
    "    \n",
    "    #Naive Bayes\n",
    "    model_naive = GaussianNB().fit(X_train_std, y_train)\n",
    "    y_pred_naive = model_naive.predict(X_test_std)\n",
    "    vet_acc_naive.append(metrics.accuracy_score(y_test, y_pred_naive))\n",
    "    \n",
    "    #SVM\n",
    "    model_svm = SVC().fit(X_train_std, y_train)\n",
    "    y_pred_svm = model_svm.predict(X_test_std)\n",
    "    vet_acc_svm.append(metrics.accuracy_score(y_test, y_pred_svm))\n",
    "    \n",
    "    \n",
    "print(\"Accuracy Perceptron: \", np.mean(vet_acc_perc))\n",
    "print(\"Accuracy Adaline Batch: \", np.mean(vet_acc_ad_g))\n",
    "print(\"Accuracy Adaline Estocastico: \", np.mean(vet_acc_est), '\\n')\n",
    "print(\"Accuracy KNN: \", np.mean(vet_acc_knn))\n",
    "print(\"Accuracy Naive Bayes: \", np.mean(vet_acc_naive))\n",
    "print(\"Accuracy SVM: \", np.mean(vet_acc_svm))    "
   ]
  },
  {
   "cell_type": "markdown",
   "metadata": {},
   "source": [
    "# Explique as diferenças entre o Adaline com Gradiente Descendente em Batch e o Adaline com Gradiente Descendente Estocástico."
   ]
  },
  {
   "cell_type": "markdown",
   "metadata": {},
   "source": [
    "O Adaline com Gradiente Descendente em Batch minimiza uma função de custo tomando uma etapa na direção oposta a um gradiente de custo calculado a partir de todo o conjunto de treinamento, tornando-o computacionalmente muito caro. O Adaline com Gradiente Descendente Estocástico alcança a convergência muito mais rapidamente devido às atualizações de peso mais frequentes. Cada gradiente é calculado com base em um único exemplo de treinamento."
   ]
  }
 ],
 "metadata": {
  "kernelspec": {
   "display_name": "Python 3",
   "language": "python",
   "name": "python3"
  },
  "language_info": {
   "codemirror_mode": {
    "name": "ipython",
    "version": 3
   },
   "file_extension": ".py",
   "mimetype": "text/x-python",
   "name": "python",
   "nbconvert_exporter": "python",
   "pygments_lexer": "ipython3",
   "version": "3.6.4"
  }
 },
 "nbformat": 4,
 "nbformat_minor": 2
}
